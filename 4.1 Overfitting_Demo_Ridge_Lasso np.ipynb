#!/usr/bin/env python3
# -*- coding: utf-8 -*-
"""
Created on Wed May  3 17:59:20 2017

@author: mshokry
"""

import numpy as np
import matplotlib.pyplot as plt
import random
import math
import pandas as pd

random.seed(98103)
n = 30
x = np.array([random.random() for i in range(n)])
x.sort()
y = np.sin(4*x)


random.seed(1)
e = np.array([random.gauss(0,1.0/3.0) for i in range(n)])
y = y + e


data = pd.DataFrame(np.column_stack([x]),columns=['x'])

def plot_data(data):    
    plt.plot(data['X1'],data['y'],'k.')
    plt.xlabel('x')
    plt.ylabel('y')

plot_data(data,y)

for i in range(2,16):  #power of 1 is already there
    colname = 'x_%d'%i      #new var will be x_power
    data[colname] = data['x']**i
print (data.head())

#Fitting Simple Linear regresaion
#Import Linear Regression model from scikit-learn.
from sklearn.linear_model import LinearRegression
def linear_regression(data, power, models_to_plot):
    #initialize predictors:
    predictors=['x']
    if power>=2:
        predictors.extend(['x_%d'%i for i in range(2,power+1)])
    
    #Fit the model
    linreg = LinearRegression(normalize=True)
    linreg.fit(data[predictors],data['y'])
    y_pred = linreg.predict(data[predictors])
    
    #Check if a plot is to be made for the entered power
    if power in models_to_plot:
        plt.subplot(models_to_plot[power])
        plt.tight_layout()
        plt.plot(data['x'],y_pred)
        plt.plot(data['x'],data['y'],'.')
        plt.title('Plot for power: %d'%power)
    
    #Return the result in pre-defined format
    rss = sum((y_pred-data['y'])**2)
    ret = [rss]
    ret.extend([linreg.intercept_])
    ret.extend(linreg.coef_)
    return ret

model1.coef_()